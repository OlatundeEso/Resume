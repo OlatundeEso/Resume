{
  "cells": [
    {
      "cell_type": "markdown",
      "metadata": {
        "id": "view-in-github",
        "colab_type": "text"
      },
      "source": [
        "<a href=\"https://colab.research.google.com/github/OlatundeEso/Resume/blob/main/Picture_to_Text_Describer_with_Streamlit_14112023.ipynb\" target=\"_parent\"><img src=\"https://colab.research.google.com/assets/colab-badge.svg\" alt=\"Open In Colab\"/></a>"
      ]
    },
    {
      "cell_type": "code",
      "execution_count": null,
      "metadata": {
        "id": "Yh3duPEq3eVH"
      },
      "outputs": [],
      "source": [
        "!pip install streamlit --quiet"
      ]
    },
    {
      "cell_type": "code",
      "execution_count": null,
      "metadata": {
        "id": "IoHDyTO63F3f"
      },
      "outputs": [],
      "source": [
        "%%writefile demo.py\n",
        "import streamlit as st\n",
        "import time\n",
        "st.title(\"This is My Maiden Streamlit Page\")\n",
        "user_input = st.text_input(\"What is your thought about this program?\", \"All Good\")\n",
        "col1, col2 = st.columns([1, 1])\n",
        "col1.markdown(\" ### This side for my calculations\")\n",
        "col2.markdown(\" ### This side for results\")\n",
        "st.sidebar.title(\"Editor's Main Corner\")\n",
        "ml_choice = st.radio(\"Choose ML Algorithm\", [\"Linear Regression\", \"XGBoost\", \"Random Forest\"])\n",
        "if ml_choice == \"XGBoost\":\n",
        "    st.write(\"That is a nice choice - XGBoost would give you a very high accuracy\")\n",
        "# photo_capture = st.camera_input(\"Take a Photo\")\n",
        "your_cv = st.file_uploader(\"Upload Resume\", accept_multiple_files=True)\n",
        "if your_cv:\n",
        "    with st.spinner(\"File Loading\"):\n",
        "        time.sleep(5)\n",
        "        st.success(\"File Upload Successful\")\n",
        "else:\n",
        "    st.error(\"No File Uploaded Yet\")\n",
        "\n",
        "family_type = st.selectbox(\"Family Size\", (\"Monogamy\", \"Polygamy\", \"Separated\"))\n",
        "sch_choice = st.multiselect(\"Choice of Secondary School - Select as many that applies\", (\"Orimerunmun Grammar School\", \"Omo-Olorogbo Sec Sch\", \"Somori\"))\n",
        "\n",
        "# IMAGE TO TEXT TESTING\n",
        "pip install transformers\n",
        "from transformers import pipeline\n",
        "def img2txt(url):\n",
        "   image_to_text = pipeline(\"image-to-text\", model = \"Salesforce/blip-image-captioning-base\")\n",
        "   text = image_to_text(url)[0]['generated_text']\n",
        "   print(text)\n",
        "   return text\n",
        "# pics_to_analyze = st.file_uploader(\"Upload Picture Here\")\n",
        "our_text = img2txt(\"/WhatsApp Image 2023-10-23 at 16.13.31.jpeg\")\n",
        "# our_text = img2txt(pics_to_analyze)\n",
        "# st.markdown(## This is the transcription of your picture)\n",
        "st.write(our_text)\n"
      ]
    },
    {
      "cell_type": "code",
      "execution_count": null,
      "metadata": {
        "colab": {
          "background_save": true,
          "base_uri": "https://localhost:8080/"
        },
        "id": "TAyPRb1m3Sd8",
        "outputId": "7efcf0d8-a8c4-4282-99ae-e3b2dd07f2b1"
      },
      "outputs": [
        {
          "name": "stdout",
          "output_type": "stream",
          "text": [
            "\n",
            "Collecting usage statistics. To deactivate, set browser.gatherUsageStats to False.\n",
            "\u001b[0m\n",
            "\u001b[0m\n",
            "\u001b[34m\u001b[1m  You can now view your Streamlit app in your browser.\u001b[0m\n",
            "\u001b[0m\n",
            "\u001b[34m  Network URL: \u001b[0m\u001b[1mhttp://172.28.0.12:8501\u001b[0m\n",
            "\u001b[34m  External URL: \u001b[0m\u001b[1mhttp://34.125.161.246:8501\u001b[0m\n",
            "\u001b[0m\n",
            "\u001b[K\u001b[?25hnpx: installed 22 in 2.699s\n",
            "your url is: https://calm-cows-enter.loca.lt\n"
          ]
        }
      ],
      "source": [
        "!streamlit run demo.py & npx localtunnel --port 8501"
      ]
    }
  ],
  "metadata": {
    "accelerator": "GPU",
    "colab": {
      "provenance": [],
      "gpuType": "T4",
      "authorship_tag": "ABX9TyPbaf3pMbLapRuEiRccP3EX",
      "include_colab_link": true
    },
    "kernelspec": {
      "display_name": "Python 3",
      "name": "python3"
    },
    "language_info": {
      "name": "python"
    }
  },
  "nbformat": 4,
  "nbformat_minor": 0
}